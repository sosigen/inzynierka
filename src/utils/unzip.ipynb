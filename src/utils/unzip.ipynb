{
 "cells": [
  {
   "cell_type": "markdown",
   "metadata": {},
   "source": [
    "# Function to unzip a file"
   ]
  },
  {
   "cell_type": "code",
   "execution_count": null,
   "metadata": {},
   "outputs": [],
   "source": [
    "import zipfile\n",
    "import os\n",
    "def unzip_file(zip_path, extract_to='.'):\n",
    "    \"\"\"\n",
    "    Unzips the specified archive to the target directory.\n",
    "\n",
    "    Parameters:\n",
    "    zip_path (str): Path to the .zip file.\n",
    "    extract_to (str): Directory where files will be extracted. Default is the current directory.\n",
    "    \"\"\"\n",
    "    # Check if the specified path is a valid zip file\n",
    "    if zipfile.is_zipfile(zip_path):\n",
    "        with zipfile.ZipFile(zip_path, 'r') as zip_ref:\n",
    "            zip_ref.extractall(extract_to)\n",
    "        print(f'Files extracted to {os.path.abspath(extract_to)}')\n",
    "    else:\n",
    "        print(f\"{zip_path} is not a valid zip file.\")\n",
    "\n",
    "unzip_file('DATASET.zip')"
   ]
  }
 ],
 "metadata": {
  "kernelspec": {
   "display_name": "thesis",
   "language": "python",
   "name": "python3"
  },
  "language_info": {
   "name": "python",
   "version": "3.10.8"
  }
 },
 "nbformat": 4,
 "nbformat_minor": 2
}
