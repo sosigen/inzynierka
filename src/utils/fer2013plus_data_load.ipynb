{
 "cells": [
  {
   "cell_type": "code",
   "execution_count": null,
   "metadata": {},
   "outputs": [],
   "source": [
    "import pandas as pd\n",
    "import numpy as np\n",
    "from keras.utils import to_categorical\n",
    "from tensorflow.keras.preprocessing.image import ImageDataGenerator\n",
    "import matplotlib.pyplot as plt\n",
    "import tensorflow as tf\n",
    "BATCH_SIZE = 64\n",
    "dataset_path = '../../datasets/fer2013plus'\n",
    "\n",
    "\n",
    "print(tf.__version__)\n",
    "train_data_generator = ImageDataGenerator(\n",
    "    rescale=1./255,\n",
    "    rotation_range=15,\n",
    "    width_shift_range=0.15,\n",
    "    height_shift_range=0.15,\n",
    "    shear_range=0.15,\n",
    "    zoom_range=0.15,\n",
    "    horizontal_flip=True,\n",
    ")\n",
    "\n",
    "train_generator = train_data_generator.flow_from_directory(\n",
    "    f'{dataset_path}/train',\n",
    "    target_size=(48, 48),\n",
    "    batch_size=64,\n",
    "    color_mode='grayscale',\n",
    "    class_mode='categorical',\n",
    "    classes=['anger', 'disgust', 'fear', 'happiness', 'neutral', 'sadness', 'surprise']\n",
    ")\n",
    "\n",
    "test_data_generator = ImageDataGenerator(rescale=1./255)\n",
    "test_generator = test_data_generator.flow_from_directory(\n",
    "    f'{dataset_path}/test',\n",
    "    target_size = (48, 48),\n",
    "    batch_size = 64,\n",
    "    color_mode = 'grayscale',\n",
    "    class_mode = 'categorical',\n",
    "    classes=['anger', 'disgust', 'fear', 'happiness', 'neutral', 'sadness', 'surprise']\n",
    ")\n",
    "\n",
    "\n",
    "emotion_labels = {\n",
    "    0: \"Surprise\",\n",
    "    1: \"Fear\",\n",
    "    2: \"Disgust\",\n",
    "    3: \"Happiness\",\n",
    "    4: \"Sadness\",\n",
    "    5: \"Anger\",\n",
    "    6: \"Neutral\"\n",
    "}\n"
   ]
  }
 ],
 "metadata": {
  "kernelspec": {
   "display_name": "thesis",
   "language": "python",
   "name": "python3"
  },
  "language_info": {
   "name": "python",
   "version": "3.10.8"
  }
 },
 "nbformat": 4,
 "nbformat_minor": 2
}
