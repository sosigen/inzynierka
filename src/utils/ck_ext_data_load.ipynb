{
 "cells": [
  {
   "cell_type": "code",
   "execution_count": null,
   "metadata": {},
   "outputs": [],
   "source": [
    "# First version is w/o augments, second one has augments"
   ]
  },
  {
   "cell_type": "code",
   "execution_count": 3,
   "metadata": {},
   "outputs": [
    {
     "name": "stdout",
     "output_type": "stream",
     "text": [
      "2.17.0\n",
      "Training set size: 660\n",
      "Validation set size: 74\n"
     ]
    }
   ],
   "source": [
    "import pandas as pd\n",
    "import numpy as np\n",
    "from keras.utils import to_categorical\n",
    "from sklearn.model_selection import train_test_split\n",
    "import tensorflow as tf\n",
    "BATCH_SIZE = 32\n",
    "\n",
    "# sanity check\n",
    "print(tf.__version__)\n",
    "\n",
    "emotion_map = {\n",
    "  '0' : 'Anger',\n",
    "  '1' : 'Disgust',\n",
    "  '2' : 'Fear',\n",
    "  '3' : 'Happiness',\n",
    "  '4' : 'Sadness',\n",
    "  '5' : 'Surprise',\n",
    "  '6' : 'Neutral',\n",
    "  '7' : 'Contempt'\n",
    "}\n",
    "\n",
    "dataset_path = '../../datasets/CK+/'\n",
    "\n",
    "# Load the raw data\n",
    "train_data_raw = pd.read_csv(f'{dataset_path}train.csv')\n",
    "test_data_raw = pd.read_csv(f'{dataset_path}test.csv')\n",
    "\n",
    "train_data, val_data = train_test_split(train_data_raw, test_size=0.1, random_state=np.random.randint(1000))\n",
    "\n",
    "# Create a data generator to load data without augmentation\n",
    "def data_generator(data, batch_size=32):\n",
    "    while True:\n",
    "        for start in range(0, len(data), batch_size):\n",
    "            end = min(start + batch_size, len(data))\n",
    "            batch_data = data[start:end]\n",
    "            batch_features = []\n",
    "            batch_labels = []\n",
    "            for _, row in batch_data.iterrows():\n",
    "                img = np.array(row['pixels'].split(), 'float32').reshape(48, 48)\n",
    "                img /= 255.0\n",
    "                img_expanded = np.expand_dims(img, axis=-1)\n",
    "                img_rgb = np.repeat(img_expanded, 3, axis=-1)\n",
    "                batch_features.append(img_rgb)\n",
    "                batch_labels.append(row['emotion'])\n",
    "            yield np.stack(batch_features), to_categorical(batch_labels, num_classes=len(emotion_map))\n",
    "\n",
    "# Initialize the train generator\n",
    "train_generator = data_generator(train_data, batch_size=BATCH_SIZE)\n",
    "val_generator = data_generator(val_data, batch_size=BATCH_SIZE)\n",
    "\n",
    "print(f\"Training set size: {len(train_data)}\")\n",
    "print(f\"Validation set size: {len(val_data)}\")"
   ]
  },
  {
   "cell_type": "code",
   "execution_count": 12,
   "metadata": {},
   "outputs": [
    {
     "name": "stdout",
     "output_type": "stream",
     "text": [
      "2.17.0\n",
      "Training set size: 660\n",
      "Validation set size: 74\n"
     ]
    }
   ],
   "source": [
    "import pandas as pd\n",
    "import numpy as np\n",
    "from keras.utils import to_categorical\n",
    "from tensorflow.keras.preprocessing.image import ImageDataGenerator\n",
    "import matplotlib.pyplot as plt\n",
    "import tensorflow as tf\n",
    "from sklearn.model_selection import train_test_split\n",
    "BATCH_SIZE = 32\n",
    "\n",
    "# sanity check\n",
    "print(tf.__version__)\n",
    "\n",
    "emotion_map = {\n",
    "  '0' : 'Anger',\n",
    "  '1' : 'Disgust',\n",
    "  '2' : 'Fear',\n",
    "  '3' : 'Happiness',\n",
    "  '4' : 'Sadness',\n",
    "  '5' : 'Surprise',\n",
    "  '6' : 'Neutral',\n",
    "  '7' : 'Contempt'\n",
    "}\n",
    "\n",
    "dataset_path = '../../datasets/CK+/'\n",
    "\n",
    "# Load the raw data\n",
    "train_data_raw = pd.read_csv(f'{dataset_path}train.csv')\n",
    "test_data_raw = pd.read_csv(f'{dataset_path}test.csv')\n",
    "\n",
    "train_data, val_data = train_test_split(train_data_raw, test_size=0.1, random_state=np.random.randint(1000))\n",
    "\n",
    "# Create a data generator to load data without augmentation\n",
    "def data_generator(data, batch_size=32):\n",
    "    while True:\n",
    "        for start in range(0, len(data), batch_size):\n",
    "            end = min(start + batch_size, len(data))\n",
    "            batch_data = data[start:end]\n",
    "            batch_features = []\n",
    "            batch_labels = []\n",
    "            for _, row in batch_data.iterrows():\n",
    "                img = np.array(row['pixels'].split(), 'float32').reshape(48, 48)\n",
    "                img /= 255.0\n",
    "                img_expanded = np.expand_dims(img, axis=-1)\n",
    "                img_rgb = np.repeat(img_expanded, 3, axis=-1)\n",
    "                batch_features.append(img_rgb)\n",
    "                batch_labels.append(row['emotion'])\n",
    "            yield np.stack(batch_features), to_categorical(batch_labels, num_classes=len(emotion_map))\n",
    "\n",
    "# Initialize the train generator\n",
    "train_generator = data_generator(train_data, batch_size=BATCH_SIZE)\n",
    "val_generator = data_generator(val_data, batch_size=BATCH_SIZE)\n",
    "\n",
    "datagen = ImageDataGenerator(\n",
    "    rotation_range=10,\n",
    "    zoom_range=0.15,\n",
    "    horizontal_flip=True,\n",
    "    fill_mode='nearest'\n",
    ")\n",
    "\n",
    "def augmented_data_generator(generator, datagen, batch_size=32):\n",
    "    while True:\n",
    "        batch_features, batch_labels = next(generator)\n",
    "        augmented_data = datagen.flow(batch_features, batch_labels, batch_size=batch_size, shuffle=False)\n",
    "        yield next(augmented_data)\n",
    "\n",
    "train_generator_augmented = augmented_data_generator(train_generator, datagen, BATCH_SIZE)\n",
    "\n",
    "print(f\"Training set size: {len(train_data)}\")\n",
    "print(f\"Validation set size: {len(val_data)}\")"
   ]
  },
  {
   "cell_type": "code",
   "execution_count": 14,
   "metadata": {},
   "outputs": [
    {
     "name": "stdout",
     "output_type": "stream",
     "text": [
      "(32, 48, 48, 3)\n",
      "(32, 8)\n"
     ]
    },
    {
     "data": {
      "image/png": "[encoded data removed]",
      "text/plain": [
       "<Figure size 640x480 with 1 Axes>"
      ]
     },
     "metadata": {},
     "output_type": "display_data"
    }
   ],
   "source": [
    "import matplotlib.pyplot as plt\n",
    "# Snippet to validate data is actually loaded\n",
    "batch_features, batch_labels = next(train_generator_augmented)\n",
    "print(batch_features.shape)\n",
    "print(batch_labels.shape)\n",
    "\n",
    "# use matplotlib to show the image, add the label as title\n",
    "plt.title(emotion_map[str(np.argmax(batch_labels[0]))])\n",
    "plt.imshow(batch_features[0])\n",
    "plt.show()"
   ]
  }
 ],
 "metadata": {
  "kernelspec": {
   "display_name": "thesis",
   "language": "python",
   "name": "python3"
  },
  "language_info": {
   "codemirror_mode": {
    "name": "ipython",
    "version": 3
   },
   "file_extension": ".py",
   "mimetype": "text/x-python",
   "name": "python",
   "nbconvert_exporter": "python",
   "pygments_lexer": "ipython3",
   "version": "3.10.8"
  }
 },
 "nbformat": 4,
 "nbformat_minor": 2
}
