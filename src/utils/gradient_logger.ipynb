{
 "cells": [
  {
   "cell_type": "code",
   "execution_count": null,
   "metadata": {},
   "outputs": [],
   "source": [
    "class GradientLogger(tf.keras.callbacks.Callback):\n",
    "    def __init__(self, dataset):\n",
    "        super().__init__()\n",
    "        self.dataset = dataset\n",
    "\n",
    "    def on_epoch_end(self, epoch, logs=None):\n",
    "        # Get one batch from the dataset\n",
    "        for batch in self.dataset.take(1):\n",
    "            inputs, targets = batch\n",
    "            with tf.GradientTape() as tape:\n",
    "                predictions = self.model(inputs, training=True)\n",
    "                # Use the model's compiled loss function\n",
    "                loss = self.model.compiled_loss(targets, predictions)\n",
    "            gradients = tape.gradient(loss, self.model.trainable_variables)\n",
    "            norm_list = []\n",
    "            for grad in gradients:\n",
    "                if grad is not None:\n",
    "                    norm_list.append(tf.norm(grad).numpy())\n",
    "            if norm_list:\n",
    "                avg_norm = np.mean(norm_list)\n",
    "                max_norm = np.max(norm_list)\n",
    "                min_norm = np.min(norm_list)\n",
    "                print(f\"Epoch {epoch+1} - Gradients: Mean L2 norm: {avg_norm:.6f}, Max: {max_norm:.6f}, Min: {min_norm:.6f}\")\n",
    "            break"
   ]
  },
  {
   "cell_type": "code",
   "execution_count": null,
   "metadata": {},
   "outputs": [],
   "source": [
    "gradient_logger = GradientLogger(train_dataset)"
   ]
  }
 ],
 "metadata": {
  "language_info": {
   "name": "python"
  }
 },
 "nbformat": 4,
 "nbformat_minor": 2
}
