{
 "cells": [
  {
   "cell_type": "code",
   "execution_count": null,
   "metadata": {},
   "outputs": [
    {
     "name": "stdout",
     "output_type": "stream",
     "text": [
      "Collecting existing FER2013+ image fingerprints...\n",
      "Collected 33389 unique image hashes from FER2013+\n",
      "Processing training images...\n"
     ]
    },
    {
     "name": "stderr",
     "output_type": "stream",
     "text": [
      "100%|██████████| 12271/12271 [00:01<00:00, 7597.85it/s]\n"
     ]
    },
    {
     "name": "stdout",
     "output_type": "stream",
     "text": [
      "Processing test images...\n"
     ]
    },
    {
     "name": "stderr",
     "output_type": "stream",
     "text": [
      "100%|██████████| 3068/3068 [00:00<00:00, 5416.29it/s]"
     ]
    },
    {
     "name": "stdout",
     "output_type": "stream",
     "text": [
      "RAF-DB to FER2013+ conversion completed!\n"
     ]
    },
    {
     "name": "stderr",
     "output_type": "stream",
     "text": [
      "\n"
     ]
    }
   ],
   "source": [
    "import os\n",
    "import pandas as pd\n",
    "from shutil import copyfile\n",
    "from PIL import Image\n",
    "from tqdm import tqdm\n",
    "import imagehash\n",
    "\n",
    "\n",
    "rafdb_root_dir = \"../../datasets/RAF-DB/DATASET\"\n",
    "fer2013plus_train_dir = \"../../datasets/fer2013plus_copy/train\"\n",
    "fer2013plus_test_dir = \"../../datasets/fer2013plus_copy/test\"\n",
    "rafdb_train_csv = f\"../../datasets/RAF-DB/train_labels.csv\"\n",
    "rafdb_test_csv = f\"../../datasets/RAF-DB/test_labels.csv\"\n",
    "\n",
    "# Mapping RAF-DB labels to FER2013+ labels\n",
    "rafdb_to_fer2013_labels = {\n",
    "    \"fear\": \"fear\",\n",
    "    \"disgust\": \"disgust\",\n",
    "    \"anger\": \"anger\"\n",
    "}\n",
    "\n",
    "# Resize dimensions (FER2013+ uses 48x48)\n",
    "resize_to = (48, 48)\n",
    "\n",
    "# Collect existing FER2013+ fingerprints (hashes)\n",
    "def get_image_hashes(directory):\n",
    "    image_hashes = set()\n",
    "    for root, _, files in os.walk(directory):\n",
    "        for file in files:\n",
    "            filepath = os.path.join(root, file)\n",
    "            try:\n",
    "                img = Image.open(filepath).convert(\"L\")  # Convert to grayscale\n",
    "                img_hash = str(imagehash.phash(img))  # Generate perceptual hash\n",
    "                image_hashes.add(img_hash)\n",
    "            except Exception as e:\n",
    "                print(f\"Error hashing file {filepath}: {e}\")\n",
    "    return image_hashes\n",
    "\n",
    "print(\"Collecting existing FER2013+ image fingerprints...\")\n",
    "fer2013plus_hashes = get_image_hashes(fer2013plus_train_dir)\n",
    "fer2013plus_hashes.update(get_image_hashes(fer2013plus_test_dir))\n",
    "print(f\"Collected {len(fer2013plus_hashes)} unique image hashes from FER2013+\")\n",
    "\n",
    "# Function to process and copy images, skipping duplicates\n",
    "def process_images(csv_path, rafdb_dir, target_dir, label_mapping, existing_hashes):\n",
    "    data = pd.read_csv(csv_path)\n",
    "    # for _, row in tqdm(data.iterrows(), total=len(data)):\n",
    "    for _, row in data.iterrows():\n",
    "        label = row[\"label\"]  # Adjust column name to match CSV\n",
    "        filepath = os.path.join(rafdb_dir, row[\"image\"])  # Adjust to RAF-DB structure\n",
    "\n",
    "        # Map RAF-DB label to FER2013+ label\n",
    "        if label in label_mapping:\n",
    "            fer_label = label_mapping[label]\n",
    "            target_folder = os.path.join(target_dir, fer_label)\n",
    "            os.makedirs(target_folder, exist_ok=True)\n",
    "\n",
    "            # Preprocess image\n",
    "            # try:\n",
    "            img = Image.open(filepath).convert(\"L\")  # Ensure it's in RGB\n",
    "            img = img.resize(resize_to)\n",
    "            img_hash = str(imagehash.phash(img))  # Generate hash for duplicate checking\n",
    "\n",
    "            # Skip if the hash exists in FER2013+\n",
    "            if img_hash in existing_hashes:\n",
    "                print(f\"Duplicate found, skipping: {filepath}\")\n",
    "                continue\n",
    "\n",
    "            # Save the new image\n",
    "            save_path = os.path.join(target_folder, os.path.basename(filepath))\n",
    "            img.save(save_path)\n",
    "            print('saving new image to ', save_path)\n",
    "\n",
    "            # Add hash to the set to avoid future duplicates\n",
    "            existing_hashes.add(img_hash)\n",
    "\n",
    "            # except Exception as e:\n",
    "            #     print(f\"Error processing file {filepath}: {e}\")\n",
    "\n",
    "# Process training images\n",
    "print(\"Processing training images...\")\n",
    "process_images(rafdb_train_csv, rafdb_root_dir, fer2013plus_train_dir, rafdb_to_fer2013_labels, fer2013plus_hashes)\n",
    "\n",
    "# Process test images\n",
    "print(\"Processing test images...\")\n",
    "process_images(rafdb_test_csv, rafdb_root_dir, fer2013plus_test_dir, rafdb_to_fer2013_labels, fer2013plus_hashes)\n",
    "\n",
    "print(\"RAF-DB to FER2013+ conversion completed!\")\n"
   ]
  }
 ],
 "metadata": {
  "kernelspec": {
   "display_name": "thesis",
   "language": "python",
   "name": "python3"
  },
  "language_info": {
   "codemirror_mode": {
    "name": "ipython",
    "version": 3
   },
   "file_extension": ".py",
   "mimetype": "text/x-python",
   "name": "python",
   "nbconvert_exporter": "python",
   "pygments_lexer": "ipython3",
   "version": "3.10.8"
  }
 },
 "nbformat": 4,
 "nbformat_minor": 2
}
