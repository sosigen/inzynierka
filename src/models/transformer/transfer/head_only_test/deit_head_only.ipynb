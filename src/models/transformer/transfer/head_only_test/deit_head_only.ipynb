{
 "cells": [
  {
   "cell_type": "code",
   "execution_count": null,
   "metadata": {},
   "outputs": [],
   "source": [
    "# Create a Downloads directory if it doesn't exist.\n",
    "!mkdir -p /content/model\n",
    "\n",
    "# Download the model tarball from Kaggle.\n",
    "!curl -L -o /content/model/model.tar.gz \"https://www.kaggle.com/api/v1/models/spsayakpaul/deit/tensorFlow2/base-distilled-patch16-224/1/download\"\n",
    "\n",
    "# Extract the model tar.gz into a directory (e.g., ~/Downloads/model)\n",
    "!tar -xzvf /content/model/model.tar.gz -C /content/model"
   ]
  },
  {
   "cell_type": "code",
   "execution_count": null,
   "metadata": {},
   "outputs": [],
   "source": [
    "import numpy as np\n",
    "import tensorflow_hub as hub\n",
    "import tensorflow as tf\n",
    "import tensorflow.keras as keras\n",
    "\n",
    "MODEL_PATH = \"/content/model\"\n",
    "res = 224\n",
    "num_classes = 7\n",
    "\n",
    "\n",
    "inputs = keras.Input((res, res, 3))\n",
    "hub_module = hub.KerasLayer(MODEL_PATH, trainable=False)\n",
    "# Explicitly build the layer to force shape resolution.\n",
    "hub_module.build((None, res, res, 3))\n",
    "x = hub_module(inputs, training=True)\n",
    "# If the module returns a tuple, take the first element.\n",
    "if isinstance(x, (list, tuple)):\n",
    "    x = x[0]\n",
    "\n",
    "# Add a new Dense layer for classification.\n",
    "x = keras.layers.Flatten()(x)\n",
    "x = keras.layers.Dense(1024, activation=\"relu\")(x)\n",
    "x = keras.layers.Dropout(0.25)(x)\n",
    "outputs = keras.layers.Dense(num_classes, activation=\"softmax\")(x)\n",
    "model = keras.Model(inputs, outputs)\n",
    "model.summary()\n",
    "\n",
    "# Compile the model.\n",
    "model.compile(optimizer='adam', loss=keras.losses.CategoricalCrossentropy(), metrics=[\"accuracy\"])\n",
    "\n",
    "callbacks = [\n",
    "    tf.keras.callbacks.EarlyStopping(monitor='val_loss', patience=5, restore_best_weights=True),\n",
    "    tf.keras.callbacks.ModelCheckpoint(filepath='Swin_pretrained.keras', monitor='val_loss', save_best_only=True)\n",
    "]\n",
    "# Train the model.\n",
    "history = model.fit(\n",
    "    train_generator,\n",
    "    validation_data=validation_generator,\n",
    "    epochs=15,\n",
    "    callbacks=callbacks\n",
    ")\n"
   ]
  }
 ],
 "metadata": {
  "language_info": {
   "name": "python"
  }
 },
 "nbformat": 4,
 "nbformat_minor": 2
}
